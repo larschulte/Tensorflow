{
  "nbformat": 4,
  "nbformat_minor": 0,
  "metadata": {
    "colab": {
      "name": "Genomics_ood.ipynb",
      "provenance": [],
      "collapsed_sections": [],
      "toc_visible": true
    },
    "kernelspec": {
      "name": "python3",
      "display_name": "Python 3"
    },
    "language_info": {
      "name": "python"
    }
  },
  "cells": [
    {
      "cell_type": "code",
      "metadata": {
        "id": "s0IPidPxMCDx"
      },
      "source": [
        "import tensorflow as tf\n",
        "import numpy as np \n",
        "import tensorflow_datasets as tfds "
      ],
      "execution_count": null,
      "outputs": []
    },
    {
      "cell_type": "code",
      "metadata": {
        "id": "VxJuovwqMEu1"
      },
      "source": [
        "gen_ds, info = tfds.load(name = 'genomics_ood', as_supervised= True, with_info= True, )\n",
        "train, test = gen_ds['train'].take(100000), gen_ds['test'].take(1000)"
      ],
      "execution_count": null,
      "outputs": []
    },
    {
      "cell_type": "code",
      "metadata": {
        "id": "HGm_s-kCMIUa"
      },
      "source": [
        "def onehotify(tensor):\n",
        "  vocab = {'A':'1', 'C': '2', 'G':'3', 'T':'0'}\n",
        "  for key in vocab.keys():\n",
        "    tensor = tf.strings.regex_replace(tensor, key, vocab[key])\n",
        "  split = tf.strings.bytes_split(tensor)\n",
        "  labels = tf.cast(tf.strings.to_number(split), tf.uint8)\n",
        "  onehot = tf.one_hot(labels, 4)\n",
        "  onehot = tf.reshape(onehot, (-1,))\n",
        "  return onehot"
      ],
      "execution_count": null,
      "outputs": []
    },
    {
      "cell_type": "code",
      "metadata": {
        "colab": {
          "base_uri": "https://localhost:8080/"
        },
        "id": "rhJgMT_qMRfW",
        "outputId": "56e6bb6c-7a24-401b-a1aa-cf851e8e172d"
      },
      "source": [
        "def preprocessing(dataset):\n",
        "  \n",
        "  dataset = dataset.map(lambda data, label: (onehotify(data), label))\n",
        "  dataset = dataset.map(lambda data, label: (data, tf.one_hot(label, depth = 10)))\n",
        "  dataset = dataset.cache()\n",
        "\n",
        "  dataset = dataset.shuffle(1000)\n",
        "\n",
        "  dataset = dataset.batch(10)\n",
        "  dataset= dataset.prefetch(30)\n",
        "\n",
        "  return dataset\n",
        "\n",
        "train = train.apply(preprocessing)\n",
        "test = test.apply(preprocessing)\n"
      ],
      "execution_count": null,
      "outputs": [
        {
          "output_type": "stream",
          "name": "stdout",
          "text": [
            "(10, 1000)\n",
            "(10, 10)\n"
          ]
        }
      ]
    },
    {
      "cell_type": "code",
      "metadata": {
        "id": "qJ8lracjM288"
      },
      "source": [
        "#Dense Layer\n",
        "\n",
        "class Dense_Layer(tf.keras.layers.Layer):\n",
        "\n",
        "  def __init__(self, units, activation_function):\n",
        "    super(Dense_Layer, self).__init__()\n",
        "    self.units = units\n",
        "    self.activation = activation_function\n",
        "\n",
        "\n",
        "  def build(self, input_shape):\n",
        "      self.weight = self.add_weight(shape=(input_shape[-1], self.units),\n",
        "                               initializer='random_normal',\n",
        "                               trainable=True)\n",
        "      self.bias = self.add_weight(shape=(self.units,),\n",
        "                               initializer='random_normal',\n",
        "                               trainable=True)\n",
        "\n",
        "  def call(self, inputs):\n",
        "      \n",
        "      activ  = self.activation(tf.matmul(inputs, self.weight) + self.bias) \n",
        "      return activ\n",
        "\n",
        "\n"
      ],
      "execution_count": null,
      "outputs": []
    },
    {
      "cell_type": "code",
      "metadata": {
        "id": "9j1R_LWbM40c"
      },
      "source": [
        "#Model\n",
        "\n",
        "class MLP(tf.keras.Model): \n",
        "\n",
        "  def __init__(self):\n",
        "    super(MLP,self).__init__()\n",
        "    self.hidden_L1 = Dense_Layer(256, tf.nn.sigmoid)\n",
        "    self.hidden_L2 = Dense_Layer(256, tf.nn.sigmoid)\n",
        "    self.output_L = Dense_Layer(10, tf.nn.softmax)\n",
        "\n",
        "  @tf.function\n",
        "  def call(self, input):\n",
        "    act = self.hidden_L1(input)\n",
        "    act = self.hidden_L2(act)\n",
        "    act = self.output_L(act)\n",
        "    #print(act)\n",
        "    return(act)"
      ],
      "execution_count": null,
      "outputs": []
    },
    {
      "cell_type": "code",
      "metadata": {
        "id": "FaDKkHqSM8Gh"
      },
      "source": [
        "@tf.function\n",
        "def train_step(model, data, label, loss_function, optimizer):\n",
        "\n",
        "\n",
        "  with tf.GradientTape() as tape:\n",
        "    prediction = model(data)\n",
        "    \n",
        "    loss = loss_function(label, prediction)\n",
        "    gradients = tape.gradient(loss, model.trainable_variables)\n",
        "  optimizer.apply_gradients(zip(gradients, model.trainable_variables))\n",
        "\n",
        "  return loss"
      ],
      "execution_count": null,
      "outputs": []
    },
    {
      "cell_type": "code",
      "metadata": {
        "id": "PzM3Z1GOM8OR"
      },
      "source": [
        "def test_model(model, test_data, loss_function):\n",
        "\n",
        "  test_accuracy_aggregator = []\n",
        "  test_loss_aggregator = []\n",
        "\n",
        "  for data, label in test_data:\n",
        "\n",
        "    prediction = model(data)\n",
        "    sample_test_loss = loss_function(label, prediction)\n",
        "    sample_test_accuracy =  np.argmax(label, axis=1) == np.argmax(prediction, axis=1)\n",
        "    sample_test_accuracy = np.mean(sample_test_accuracy)\n",
        "    test_loss_aggregator.append(sample_test_loss.numpy())\n",
        "    test_accuracy_aggregator.append(np.mean(sample_test_accuracy))\n",
        "\n",
        "  test_loss = tf.reduce_mean(test_loss_aggregator)\n",
        "  test_accuracy = tf.reduce_mean(test_accuracy_aggregator)\n",
        "\n",
        "  return test_loss, test_accuracy"
      ],
      "execution_count": null,
      "outputs": []
    },
    {
      "cell_type": "code",
      "metadata": {
        "colab": {
          "base_uri": "https://localhost:8080/"
        },
        "id": "kYV086lDM8Vp",
        "outputId": "d27e02a0-b327-47af-af44-1232a24a6af3"
      },
      "source": [
        "MLP_Instance = MLP()\n",
        "\n",
        "\n",
        "\n",
        "#Training \n",
        "learning_rate = tf.constant(0.1, dtype=tf.float32)\n",
        "loss_cross_ent = tf.keras.losses.CategoricalCrossentropy()\n",
        "SGD_Optimizer = tf.keras.optimizers.SGD(learning_rate=learning_rate)\n",
        "\n",
        "train_losses = []\n",
        "test_losses = []\n",
        "test_accuracies = []\n",
        "\n",
        "for epoch in range(10):\n",
        "\n",
        "  for data, label in train:\n",
        "\n",
        "    epoch_losses = []\n",
        "    train_loss = train_step(MLP_Instance, data, label , loss_cross_ent, SGD_Optimizer)\n",
        "    epoch_losses.append(train_loss)\n",
        "  losses = tf.reduce_mean(epoch_losses)\n",
        "  train_losses.append(losses)\n",
        "\n",
        "  \n",
        "  test_loss, test_accr = test_model(MLP_Instance, test, loss_cross_ent)\n",
        "  test_losses.append(test_loss)\n",
        "  test_accuracies.append(test_accr)\n",
        "  print(f\"Test Accuracy for this Run: {test_accr}\")\n"
      ],
      "execution_count": null,
      "outputs": [
        {
          "output_type": "stream",
          "name": "stdout",
          "text": [
            "Test Accuracy for this RUN: 0.353\n",
            "Train Accuracy for this RUN: 1.9524345397949219\n",
            "Test Accuracy for this RUN: 0.36099999999999993\n",
            "Train Accuracy for this RUN: 2.320054769515991\n",
            "Test Accuracy for this RUN: 0.366\n",
            "Train Accuracy for this RUN: 1.3912166357040405\n",
            "Test Accuracy for this RUN: 0.33299999999999996\n",
            "Train Accuracy for this RUN: 1.4597370624542236\n",
            "Test Accuracy for this RUN: 0.371\n",
            "Train Accuracy for this RUN: 1.3038957118988037\n",
            "Test Accuracy for this RUN: 0.377\n",
            "Train Accuracy for this RUN: 1.3711570501327515\n",
            "Test Accuracy for this RUN: 0.386\n",
            "Train Accuracy for this RUN: 1.2397962808609009\n",
            "Test Accuracy for this RUN: 0.40199999999999997\n",
            "Train Accuracy for this RUN: 1.1469049453735352\n",
            "Test Accuracy for this RUN: 0.4059999999999999\n",
            "Train Accuracy for this RUN: 1.2078858613967896\n",
            "Test Accuracy for this RUN: 0.39299999999999996\n",
            "Train Accuracy for this RUN: 1.330559253692627\n"
          ]
        }
      ]
    },
    {
      "cell_type": "code",
      "metadata": {
        "colab": {
          "base_uri": "https://localhost:8080/",
          "height": 279
        },
        "id": "aWTTrTUQNDTy",
        "outputId": "9a226707-511d-4cb3-8ab0-2508049b49c3"
      },
      "source": [
        "import matplotlib.pyplot as plt\n",
        "\n",
        "# Visualize accuracy and loss for training and test data.\n",
        "plt.figure()\n",
        "line1, = plt.plot(train_losses)\n",
        "line2, = plt.plot(test_losses)\n",
        "line3, = plt.plot(test_accuracies)\n",
        "plt.xlabel(\"Training steps\")\n",
        "plt.ylabel(\"Loss/Accuracy\")\n",
        "plt.legend((line1,line2, line3),(\"training\",\"test\", \"test accuracy\"))\n",
        "plt.show()"
      ],
      "execution_count": null,
      "outputs": [
        {
          "output_type": "display_data",
          "data": {
            "image/png": "[encoded data removed]",
            "text/plain": [
              "<Figure size 432x288 with 1 Axes>"
            ]
          },
          "metadata": {
            "needs_background": "light"
          }
        }
      ]
    }
  ]
}